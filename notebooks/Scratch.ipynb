{
 "cells": [
  {
   "cell_type": "code",
   "execution_count": 401,
   "metadata": {},
   "outputs": [],
   "source": [
    "import glob\n",
    "import json\n",
    "import numpy as np\n",
    "import pandas as pd\n",
    "from collections import defaultdict\n",
    "from os.path import expanduser\n",
    "from typing import Dict\n",
    "from typing import List\n",
    "from typing import Text\n",
    "from typing import Tuple\n",
    "\n",
    "import sys\n",
    "sys.path.insert(0, '../src/')\n",
    "import utils\n",
    "import balance_theory_logs_lib as bt"
   ]
  },
  {
   "cell_type": "code",
   "execution_count": 405,
   "metadata": {},
   "outputs": [],
   "source": [
    "team_log = bt.TeamLogsLoader('/home/omid55/Dropbox/PhD/Projects/Balance theory subject study/balance_theory_subject_study/src/testing_log/synthetic1_raw_logs')\n",
    "teams_log = {'t1': team_log}"
   ]
  },
  {
   "cell_type": "code",
   "execution_count": 464,
   "metadata": {},
   "outputs": [],
   "source": []
  },
  {
   "cell_type": "code",
   "execution_count": 468,
   "metadata": {},
   "outputs": [
    {
     "name": "stderr",
     "output_type": "stream",
     "text": [
      "/home/omid55/.local/lib/python3.6/site-packages/ipykernel_launcher.py:1: FutureWarning: Method .as_matrix will be removed in a future version. Use .values instead.\n",
      "  \"\"\"Entry point for launching an IPython kernel.\n"
     ]
    },
    {
     "data": {
      "text/plain": [
       "array([[-1, 'asbestos', 'pogs01', '', '', '', '', '', '', '', '', '', '',\n",
       "        '', '', '', '', '', '', '', '', '', '', '', ''],\n",
       "       [-1, 'asbestos', 'pogs02', '', '', '', '', '', '', '', '', '', '',\n",
       "        '', '', '', '', '', '', '', '', '', '', '', ''],\n",
       "       [-1, 'asbestos', 'pogs03', '', '', '', '', '', '', '', '', '', '',\n",
       "        '', '', '', '', '', '', '', '', '', '', '', ''],\n",
       "       [-1, 'disaster', 'pogs01', '$1000', '1500', '$2000', '2000', 30.0,\n",
       "        30.0, 30.0, 100.0, 0.0, 0.0, 100.0, 0.0, 0.0, 0.0, -1.0, 2.0,\n",
       "        10.0, 10.0, 10.0, 10.0, 10.0, 10.0],\n",
       "       [-1, 'disaster', 'pogs02', '$2000', '2000', '$2200', '2000', 0.0,\n",
       "        100.0, 0.0, 30.0, 30.0, 30.0, 30.0, 40.0, 30.0, -10.0, 10.0,\n",
       "        -10.0, -3.0, -1.0, -2.0, 1.0, 10.0, 1.0],\n",
       "       [-1, 'disaster', 'pogs03', '$3000', '$2500', '$2100', '$2000',\n",
       "        20.0, 20.0, 60.0, 30.0, 30.0, 40.0, 50.0, 50.0, 0.0, -10.0, 0.0,\n",
       "        0.0, 10.0, -10.0, -1.0, -10.0, -10.0, 10.0],\n",
       "       [-1, 'sports', 'pogs01', '', '', '', '', '', '', '', '', '', '',\n",
       "        '', '', '', '', '', '', '', '', '', '', '', ''],\n",
       "       [-1, 'sports', 'pogs02', '', '', '', '', '', '', '', '', '', '',\n",
       "        '', '', '', '', '', '', '', '', '', '', '', ''],\n",
       "       [-1, 'sports', 'pogs03', '', '', '', '', '', '', '', '', '', '',\n",
       "        '', '', '', '', '', '', '', '', '', '', '', ''],\n",
       "       [-1, 'school', 'pogs01', '', '', '', '', '', '', '', '', '', '',\n",
       "        '', '', '', '', '', '', '', '', '', '', '', ''],\n",
       "       [-1, 'school', 'pogs02', '', '', '', '', '', '', '', '', '', '',\n",
       "        '', '', '', '', '', '', '', '', '', '', '', ''],\n",
       "       [-1, 'school', 'pogs03', '', '', '', '', '', '', '', '', '', '',\n",
       "        '', '', '', '', '', '', '', '', '', '', '', ''],\n",
       "       [-1, 'surgery', 'pogs01', '', '', '', '', '', '', '', '', '', '',\n",
       "        '', '', '', '', '', '', '', '', '', '', '', ''],\n",
       "       [-1, 'surgery', 'pogs02', '', '', '', '', '', '', '', '', '', '',\n",
       "        '', '', '', '', '', '', '', '', '', '', '', ''],\n",
       "       [-1, 'surgery', 'pogs03', '', '', '', '', '', '', '', '', '', '',\n",
       "        '', '', '', '', '', '', '', '', '', '', '', '']], dtype=object)"
      ]
     },
     "execution_count": 468,
     "metadata": {},
     "output_type": "execute_result"
    }
   ],
   "source": [
    "df = pd.DataFrame(dt, columns = [\n",
    "    'Group', 'Issue', 'Person', 'Initial opinion',\n",
    "    'Period1 opinion', 'Period2 opinion', 'Period3 opinion',\n",
    "    'Period1 w1', 'Period1 w2', 'Period1 w3',\n",
    "    'Period2 w1', 'Period2 w2', 'Period2 w3',\n",
    "    'Period3 w1', 'Period3 w2', 'Period3 w3',\n",
    "    'Period1 a1', 'Period1 a2', 'Period1 a3',\n",
    "    'Period2 a1', 'Period2 a2', 'Period2 a3',\n",
    "    'Period3 a1', 'Period3 a2', 'Period3 a3'])"
   ]
  },
  {
   "cell_type": "code",
   "execution_count": null,
   "metadata": {},
   "outputs": [],
   "source": []
  }
 ],
 "metadata": {
  "kernelspec": {
   "display_name": "Python 3.6.9 64-bit",
   "language": "python",
   "name": "python36964bit9edc255a5e0441d39344b1fa56adeaa0"
  },
  "language_info": {
   "codemirror_mode": {
    "name": "ipython",
    "version": 3
   },
   "file_extension": ".py",
   "mimetype": "text/x-python",
   "name": "python",
   "nbconvert_exporter": "python",
   "pygments_lexer": "ipython3",
   "version": "3.6.9"
  }
 },
 "nbformat": 4,
 "nbformat_minor": 2
}
