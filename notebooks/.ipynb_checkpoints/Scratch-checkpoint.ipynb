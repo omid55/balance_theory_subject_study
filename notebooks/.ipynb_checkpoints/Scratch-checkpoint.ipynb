{
 "cells": [
  {
   "cell_type": "code",
   "execution_count": 401,
   "metadata": {},
   "outputs": [],
   "source": [
    "import glob\n",
    "import json\n",
    "import numpy as np\n",
    "import pandas as pd\n",
    "from collections import defaultdict\n",
    "from os.path import expanduser\n",
    "from typing import Dict\n",
    "from typing import List\n",
    "from typing import Text\n",
    "from typing import Tuple\n",
    "\n",
    "import sys\n",
    "sys.path.insert(0, '../src/')\n",
    "import utils\n",
    "import balance_theory_logs_lib as bt"
   ]
  },
  {
   "cell_type": "code",
   "execution_count": 405,
   "metadata": {},
   "outputs": [],
   "source": [
    "team_log = bt.TeamLogsLoader('/home/omid55/Dropbox/PhD/Projects/Balance theory subject study/balance_theory_subject_study/src/testing_log/synthetic1_raw_logs')\n",
    "teams_log = {'t1': team_log}"
   ]
  },
  {
   "cell_type": "code",
   "execution_count": 428,
   "metadata": {},
   "outputs": [],
   "source": [
    "dt = []\n",
    "issues = ['asbestos', 'disaster', 'sports', 'school', 'surgery']\n",
    "for team_log in teams_log.values():\n",
    "    team_id = team_log.team_id\n",
    "    answers = team_log.answers\n",
    "    influences = team_log.influences\n",
    "    appraisals = team_log.appraisals\n",
    "    team_size = len(team_log.members)\n",
    "    for issue in issues:\n",
    "        for index, member in enumerate(team_log.members):\n",
    "            member_answers = []\n",
    "            member_influences = []\n",
    "            member_appraisals = []\n",
    "            for i in range(4):\n",
    "                answer = answers[(answers['sender'] == member) & (answers['question'] == 'GD_solo_{}{}'.format(issue, str(i)))]\n",
    "                ans = ['' for _ in range(team_size)]\n",
    "                if len(answer) > 0:\n",
    "                    if len(answer) != 1:\n",
    "                        raise ValueError('E1: There was a problem in answers dataframe.'\n",
    "                                         ' It has more than one row (it has'\n",
    "                                         ' {} rows) for {} and {}.'.format(len(answer), issue, member))\n",
    "                    else:\n",
    "                        ans = answer.iloc[0]['value']\n",
    "                member_answers.append(ans)\n",
    "                \n",
    "                influence = influences[(influences['sender'] == member) & (influences['question'] == 'GD_influence_{}{}'.format(issue, str(i)))]\n",
    "                inf = ['' for _ in range(team_size)]\n",
    "                if len(influence) > 0:\n",
    "                    if len(influence) != 1:\n",
    "                        raise ValueError('E1: There was a problem in influences dataframe.'\n",
    "                                         ' It has more than one row (it has'\n",
    "                                         ' {} rows) for {} and {}.'.format(len(influence), issue, member))\n",
    "                    else:\n",
    "                        inf = list(influence.iloc[0]['value'])\n",
    "                member_influences.append(inf)\n",
    "                \n",
    "                appraisal = appraisals[(appraisals['sender'] == member) & (appraisals['question'] == 'GD_appraisal_{}{}'.format(issue, str(i)))]\n",
    "                appr = ['' for _ in range(team_size)]\n",
    "                if len(appraisal) > 0:\n",
    "                    if len(appraisal) != 1:\n",
    "                        raise ValueError('E1: There was a problem in appraisal dataframe.'\n",
    "                                         ' It has more than one row (it has'\n",
    "                                         ' {} rows) for {} and {}.'.format(len(appraisal), issue, member))\n",
    "                    else:\n",
    "                        appr = list(appraisal.iloc[0]['value'])\n",
    "                member_appraisals.append(appr)\n",
    "            dt.append([team_id, issue, member, member_answers, member_influences, member_appraisals])"
   ]
  },
  {
   "cell_type": "code",
   "execution_count": 429,
   "metadata": {},
   "outputs": [
    {
     "data": {
      "text/plain": [
       "15"
      ]
     },
     "execution_count": 429,
     "metadata": {},
     "output_type": "execute_result"
    }
   ],
   "source": [
    "len(dt)"
   ]
  },
  {
   "cell_type": "code",
   "execution_count": 430,
   "metadata": {},
   "outputs": [
    {
     "data": {
      "text/plain": [
       "[[-1,\n",
       "  'asbestos',\n",
       "  'pogs01',\n",
       "  ['', '', '', ''],\n",
       "  [[], [], [], []],\n",
       "  [[], [], [], []]],\n",
       " [-1,\n",
       "  'asbestos',\n",
       "  'pogs02',\n",
       "  ['', '', '', ''],\n",
       "  [[], [], [], []],\n",
       "  [[], [], [], []]],\n",
       " [-1,\n",
       "  'asbestos',\n",
       "  'pogs03',\n",
       "  ['', '', '', ''],\n",
       "  [[], [], [], []],\n",
       "  [[], [], [], []]],\n",
       " [-1,\n",
       "  'disaster',\n",
       "  'pogs01',\n",
       "  ['$1000', '1500', '$2000', '2000'],\n",
       "  [[], [30.0, 30.0, 30.0], [100.0, 0.0, 0.0], [100.0, 0.0, 0.0]],\n",
       "  [[], [0.0, -1.0, 2.0], [10.0, 10.0, 10.0], [10.0, 10.0, 10.0]]],\n",
       " [-1,\n",
       "  'disaster',\n",
       "  'pogs02',\n",
       "  ['$2000', '2000', '$2200', '2000'],\n",
       "  [[], [0.0, 100.0, 0.0], [30.0, 30.0, 30.0], [30.0, 40.0, 30.0]],\n",
       "  [[], [-10.0, 10.0, -10.0], [-3.0, -1.0, -2.0], [1.0, 10.0, 1.0]]],\n",
       " [-1,\n",
       "  'disaster',\n",
       "  'pogs03',\n",
       "  ['$3000', '$2500', '$2100', '$2000'],\n",
       "  [[], [20.0, 20.0, 60.0], [30.0, 30.0, 40.0], [50.0, 50.0, 0.0]],\n",
       "  [[], [-10.0, 0.0, 0.0], [10.0, -10.0, -1.0], [-10.0, -10.0, 10.0]]],\n",
       " [-1,\n",
       "  'sports',\n",
       "  'pogs01',\n",
       "  ['', '', '', ''],\n",
       "  [[], [], [], []],\n",
       "  [[], [], [], []]],\n",
       " [-1,\n",
       "  'sports',\n",
       "  'pogs02',\n",
       "  ['', '', '', ''],\n",
       "  [[], [], [], []],\n",
       "  [[], [], [], []]],\n",
       " [-1,\n",
       "  'sports',\n",
       "  'pogs03',\n",
       "  ['', '', '', ''],\n",
       "  [[], [], [], []],\n",
       "  [[], [], [], []]],\n",
       " [-1,\n",
       "  'school',\n",
       "  'pogs01',\n",
       "  ['', '', '', ''],\n",
       "  [[], [], [], []],\n",
       "  [[], [], [], []]],\n",
       " [-1,\n",
       "  'school',\n",
       "  'pogs02',\n",
       "  ['', '', '', ''],\n",
       "  [[], [], [], []],\n",
       "  [[], [], [], []]],\n",
       " [-1,\n",
       "  'school',\n",
       "  'pogs03',\n",
       "  ['', '', '', ''],\n",
       "  [[], [], [], []],\n",
       "  [[], [], [], []]],\n",
       " [-1,\n",
       "  'surgery',\n",
       "  'pogs01',\n",
       "  ['', '', '', ''],\n",
       "  [[], [], [], []],\n",
       "  [[], [], [], []]],\n",
       " [-1,\n",
       "  'surgery',\n",
       "  'pogs02',\n",
       "  ['', '', '', ''],\n",
       "  [[], [], [], []],\n",
       "  [[], [], [], []]],\n",
       " [-1,\n",
       "  'surgery',\n",
       "  'pogs03',\n",
       "  ['', '', '', ''],\n",
       "  [[], [], [], []],\n",
       "  [[], [], [], []]]]"
      ]
     },
     "execution_count": 430,
     "metadata": {},
     "output_type": "execute_result"
    }
   ],
   "source": [
    "pd.DataFrame(dt, columns = [\n",
    "        'Group', 'Issue', 'Person', 'Initial opinion',\n",
    "        'Period1 opinion', 'Period1 wii', 'Period1 wij',\n",
    "        'Period2 opinion', 'Period2 wii', 'Period2 wij',\n",
    "        'Period3 opinion', 'Period3 wii', 'Period3 wij'])"
   ]
  },
  {
   "cell_type": "code",
   "execution_count": null,
   "metadata": {},
   "outputs": [],
   "source": []
  }
 ],
 "metadata": {
  "kernelspec": {
   "display_name": "Python 3.6.9 64-bit",
   "language": "python",
   "name": "python36964bit9edc255a5e0441d39344b1fa56adeaa0"
  },
  "language_info": {
   "codemirror_mode": {
    "name": "ipython",
    "version": 3
   },
   "file_extension": ".py",
   "mimetype": "text/x-python",
   "name": "python",
   "nbconvert_exporter": "python",
   "pygments_lexer": "ipython3",
   "version": "3.6.9"
  }
 },
 "nbformat": 4,
 "nbformat_minor": 2
}
